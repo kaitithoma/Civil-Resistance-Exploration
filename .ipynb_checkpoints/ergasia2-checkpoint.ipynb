{
 "cells": [
  {
   "cell_type": "markdown",
   "metadata": {},
   "source": [
    "We start our program with these initial commands and\n",
    "imports and we read the data. We will need them to respond the questions"
   ]
  },
  {
   "cell_type": "code",
   "execution_count": 138,
   "metadata": {},
   "outputs": [],
   "source": [
    "import pandas as pd\n",
    "import statsmodels.api as sm\n",
    "import statsmodels.formula.api as smf\n",
    "import statsmodels.graphics as sgr\n",
    "import matplotlib.pyplot as plt\n",
    "import numpy as np\n",
    "from matplotlib.collections import LineCollection\n",
    "from statsmodels.stats.outliers_influence import summary_table\n",
    "from statsmodels.formula.api import logit\n",
    "\n",
    "%matplotlib inline\n",
    "\n",
    "data_filename = 'Data and Replication Files/WCRWreplication.dta'\n",
    "data = pd.read_stata(data_filename)"
   ]
  },
  {
   "cell_type": "markdown",
   "metadata": {},
   "source": [
    "# 1. Frequency of Nonviolent and Violent Campaign End Years"
   ]
  },
  {
   "cell_type": "markdown",
   "metadata": {},
   "source": [
    "We create a new Data Frame, q1, in which we keep the number of violent and non violent campaigns for every end year."
   ]
  },
  {
   "cell_type": "code",
   "execution_count": 188,
   "metadata": {},
   "outputs": [],
   "source": [
    "q1 = pd.DataFrame()\n",
    "q1['violent'] = data.loc[data.viol == 1].groupby(['eyear']).size()\n",
    "q1['non_violent'] = data.loc[data.nonviol == 1].groupby(['eyear']).size()\n",
    "q1['decade'] = q1.index.values/10 \n",
    "q1.decade = q1.decade.astype(int)*10 #We convert the exact years to decades."
   ]
  },
  {
   "cell_type": "markdown",
   "metadata": {},
   "source": [
    "We now count the violent and non violent campaigns of every decade."
   ]
  },
  {
   "cell_type": "code",
   "execution_count": 3,
   "metadata": {},
   "outputs": [
    {
     "data": {
      "text/html": [
       "<div>\n",
       "<style scoped>\n",
       "    .dataframe tbody tr th:only-of-type {\n",
       "        vertical-align: middle;\n",
       "    }\n",
       "\n",
       "    .dataframe tbody tr th {\n",
       "        vertical-align: top;\n",
       "    }\n",
       "\n",
       "    .dataframe thead th {\n",
       "        text-align: right;\n",
       "    }\n",
       "</style>\n",
       "<table border=\"1\" class=\"dataframe\">\n",
       "  <thead>\n",
       "    <tr style=\"text-align: right;\">\n",
       "      <th></th>\n",
       "      <th>violent</th>\n",
       "      <th>non_violent</th>\n",
       "    </tr>\n",
       "    <tr>\n",
       "      <th>decade</th>\n",
       "      <th></th>\n",
       "      <th></th>\n",
       "    </tr>\n",
       "  </thead>\n",
       "  <tbody>\n",
       "    <tr>\n",
       "      <th>1900</th>\n",
       "      <td>14</td>\n",
       "      <td>0.0</td>\n",
       "    </tr>\n",
       "    <tr>\n",
       "      <th>1910</th>\n",
       "      <td>8</td>\n",
       "      <td>1.0</td>\n",
       "    </tr>\n",
       "    <tr>\n",
       "      <th>1920</th>\n",
       "      <td>18</td>\n",
       "      <td>1.0</td>\n",
       "    </tr>\n",
       "    <tr>\n",
       "      <th>1930</th>\n",
       "      <td>14</td>\n",
       "      <td>0.0</td>\n",
       "    </tr>\n",
       "    <tr>\n",
       "      <th>1940</th>\n",
       "      <td>21</td>\n",
       "      <td>5.0</td>\n",
       "    </tr>\n",
       "    <tr>\n",
       "      <th>1950</th>\n",
       "      <td>19</td>\n",
       "      <td>9.0</td>\n",
       "    </tr>\n",
       "    <tr>\n",
       "      <th>1960</th>\n",
       "      <td>17</td>\n",
       "      <td>7.0</td>\n",
       "    </tr>\n",
       "    <tr>\n",
       "      <th>1970</th>\n",
       "      <td>26</td>\n",
       "      <td>7.0</td>\n",
       "    </tr>\n",
       "    <tr>\n",
       "      <th>1980</th>\n",
       "      <td>13</td>\n",
       "      <td>24.0</td>\n",
       "    </tr>\n",
       "    <tr>\n",
       "      <th>1990</th>\n",
       "      <td>45</td>\n",
       "      <td>23.0</td>\n",
       "    </tr>\n",
       "    <tr>\n",
       "      <th>2000</th>\n",
       "      <td>22</td>\n",
       "      <td>19.0</td>\n",
       "    </tr>\n",
       "  </tbody>\n",
       "</table>\n",
       "</div>"
      ],
      "text/plain": [
       "        violent  non_violent\n",
       "decade                      \n",
       "1900         14          0.0\n",
       "1910          8          1.0\n",
       "1920         18          1.0\n",
       "1930         14          0.0\n",
       "1940         21          5.0\n",
       "1950         19          9.0\n",
       "1960         17          7.0\n",
       "1970         26          7.0\n",
       "1980         13         24.0\n",
       "1990         45         23.0\n",
       "2000         22         19.0"
      ]
     },
     "execution_count": 3,
     "metadata": {},
     "output_type": "execute_result"
    }
   ],
   "source": [
    "q11 = pd.DataFrame()\n",
    "q11['violent'] = q1.groupby(['decade']).violent.sum()\n",
    "q11['non_violent'] = q1.groupby(['decade']).non_violent.sum()\n",
    "q11"
   ]
  },
  {
   "cell_type": "markdown",
   "metadata": {},
   "source": [
    "We create the area plot of the previous results. We can see that non \n",
    "violent campaigns increase more than the violent ones as the time passes."
   ]
  },
  {
   "cell_type": "code",
   "execution_count": 177,
   "metadata": {},
   "outputs": [
    {
     "data": {
      "text/plain": [
       "Text(0, 0.5, 'campaigns')"
      ]
     },
     "execution_count": 177,
     "metadata": {},
     "output_type": "execute_result"
    },
    {
     "data": {
      "image/png": "[encoded data removed]",
      "text/plain": [
       "<Figure size 1080x576 with 1 Axes>"
      ]
     },
     "metadata": {
      "needs_background": "light"
     },
     "output_type": "display_data"
    }
   ],
   "source": [
    "area_plot = q11.plot.area(stacked = True, figsize = (15,8), color = ['#ff9933','#cc0099'], grid = True)\n",
    "plt.ylabel('campaigns')"
   ]
  },
  {
   "cell_type": "markdown",
   "metadata": {},
   "source": [
    "# 2. Number of Nonviolent Campaigns and Percentage of Success"
   ]
  },
  {
   "cell_type": "markdown",
   "metadata": {},
   "source": [
    "We count the number of non violent campaigns of every end year from 1940 onwards and how many of them succeeded."
   ]
  },
  {
   "cell_type": "code",
   "execution_count": 5,
   "metadata": {},
   "outputs": [],
   "source": [
    "q2 = pd.DataFrame()\n",
    "q2['nv_campaigns'] = data.loc[\n",
    "    (data.nonviol == 1) & (data.eyear >= 1940)].groupby(['eyear']).size()\n",
    "q2['num_of_success'] = data.loc[\n",
    "    (data.success == 1) & (data.eyear >= 1940) & (data.nonviol ==1)].groupby(['eyear']).size()\n",
    "q2['decade'] = q2.index.values/10\n",
    "q2.decade = q2.decade.astype(int)*10 #We convert the exact years to decades."
   ]
  },
  {
   "cell_type": "markdown",
   "metadata": {},
   "source": [
    "We count the number of non violent campaigns of every end decade from 1940 onwards and how many of them succeeded."
   ]
  },
  {
   "cell_type": "code",
   "execution_count": 6,
   "metadata": {},
   "outputs": [],
   "source": [
    "q21 = pd.DataFrame()\n",
    "q21['nv_campaigns'] = q2.groupby(['decade']).nv_campaigns.sum()\n",
    "q21['num_of_success'] = q2.groupby(['decade']).num_of_success.sum()\n",
    "q21['success_per'] = q21.num_of_success/q21['nv_campaigns']"
   ]
  },
  {
   "cell_type": "markdown",
   "metadata": {},
   "source": [
    "We create the bar plot of the previous results. We can see that both the general \n",
    "success and the non violent campaigns increase especially after 70's."
   ]
  },
  {
   "cell_type": "code",
   "execution_count": 7,
   "metadata": {},
   "outputs": [
    {
     "data": {
      "text/plain": [
       "<matplotlib.legend.Legend at 0xc0a6908>"
      ]
     },
     "execution_count": 7,
     "metadata": {},
     "output_type": "execute_result"
    },
    {
     "data": {
      "image/png": "[encoded data removed]",
      "text/plain": [
       "<Figure size 1080x576 with 2 Axes>"
      ]
     },
     "metadata": {
      "needs_background": "light"
     },
     "output_type": "display_data"
    }
   ],
   "source": [
    "fig = plt.figure(figsize = (15,8))\n",
    "ax = fig.add_subplot()\n",
    "ax2 = ax.twinx() # Create another axes that shares the same x-axis as ax.\n",
    "\n",
    "q21['nv_campaigns'].plot(\n",
    "    kind = 'bar', color = '#ff9933', ax =ax, width = 0.2, position = 1)\n",
    "q21['success_per'].plot(\n",
    "    kind = 'bar', color = '#cc0099', ax = ax2, width = 0.2, position = 0)\n",
    "\n",
    "ax.legend([\"number of non violent campaigns\"], bbox_to_anchor=(0.256, 0.95)) \n",
    "#We fix the exact position of the first legend to be under the second\n",
    "ax2.legend([\"success percentage\"])"
   ]
  },
  {
   "cell_type": "markdown",
   "metadata": {},
   "source": [
    "# 3: Success Rate by Decade"
   ]
  },
  {
   "cell_type": "markdown",
   "metadata": {},
   "source": [
    "We count the total number of campaigns and the number \n",
    "of non violent and violent campaigns of every end year from 1940 onwards \n",
    "and how many of them succeeded. "
   ]
  },
  {
   "cell_type": "code",
   "execution_count": 8,
   "metadata": {},
   "outputs": [],
   "source": [
    "q3 = pd.DataFrame()\n",
    "q3['campaigns'] = data.loc[(data.eyear >= 1940)].groupby(['eyear']).size()\n",
    "q3['nv_num'] = data.loc[(data.nonviol == 1) & (data.eyear >= 1940)].groupby(['eyear']).size()\n",
    "q3['nv_successes'] = data.loc[(data.nonviol == 1) & (data.success == 1) & \n",
    "                              (data.eyear >= 1940)].groupby(['eyear']).size()\n",
    "q3['v_num'] = data.loc[(data.viol == 1) & (data.eyear >= 1940)].groupby(['eyear']).size()\n",
    "q3['v_successes'] = data.loc[(data.viol == 1) & (data.success == 1) & \n",
    "                             (data.eyear >= 1940)].groupby(['eyear']).size()\n",
    "q3['decade'] = q3.index.values/10\n",
    "q3.decade = q3.decade.astype(int)*10 #We convert the exact years to decades."
   ]
  },
  {
   "cell_type": "markdown",
   "metadata": {},
   "source": [
    "We count the total number of campaigns and the number of non violent and violent campaigns of every decade from 1940 onwards and how many of each kind succeeded."
   ]
  },
  {
   "cell_type": "code",
   "execution_count": 9,
   "metadata": {},
   "outputs": [],
   "source": [
    "q31 = pd.DataFrame()\n",
    "q31['campaigns'] = q3.groupby(['decade']).campaigns.sum()\n",
    "q31['nv_num'] = q3.groupby(['decade']).nv_num.sum()\n",
    "q31['nv_successes'] = q3.groupby(['decade']).nv_successes.sum()\n",
    "q31['nonviolent rate'] = q31.nv_successes/q31.nv_num\n",
    "\n",
    "q31['v_num'] = q3.groupby(['decade']).v_num.sum()\n",
    "q31['v_successes'] = q3.groupby(['decade']).v_successes.sum()\n",
    "q31['violent rate'] = q31.v_successes/q31.v_num"
   ]
  },
  {
   "cell_type": "markdown",
   "metadata": {},
   "source": [
    "We create the bar plot of the previous results. We can see that the success of non violent campaigns is always\n",
    "greater than the success of the violent ones except for 50's decade."
   ]
  },
  {
   "cell_type": "code",
   "execution_count": 10,
   "metadata": {},
   "outputs": [
    {
     "data": {
      "text/plain": [
       "<matplotlib.axes._subplots.AxesSubplot at 0xc31f828>"
      ]
     },
     "execution_count": 10,
     "metadata": {},
     "output_type": "execute_result"
    },
    {
     "data": {
      "image/png": "[encoded data removed]",
      "text/plain": [
       "<Figure size 1080x576 with 1 Axes>"
      ]
     },
     "metadata": {
      "needs_background": "light"
     },
     "output_type": "display_data"
    }
   ],
   "source": [
    "q31.plot(y = ['nonviolent rate', 'violent rate'], kind = 'bar', \n",
    "         color = ['#ff9933','#cc0099'], legend = True, figsize = (15, 8))"
   ]
  },
  {
   "cell_type": "markdown",
   "metadata": {},
   "source": [
    "# 4. Twenty-Five Largest Resistance Campaigns, 1900-2006"
   ]
  },
  {
   "cell_type": "markdown",
   "metadata": {},
   "source": [
    "We find the top 25 largest resistance campaigns based on their peak membership. We do that by sorting the original data with descending order based on the peak membership value and selecting the first 25 of them.\n",
    "We can see that the largest resistance campaign of all time had 450.000 members at highest point, durated 8 years,\n",
    "took place in China  and was violent."
   ]
  },
  {
   "cell_type": "code",
   "execution_count": 11,
   "metadata": {},
   "outputs": [
    {
     "data": {
      "text/html": [
       "<div>\n",
       "<style scoped>\n",
       "    .dataframe tbody tr th:only-of-type {\n",
       "        vertical-align: middle;\n",
       "    }\n",
       "\n",
       "    .dataframe tbody tr th {\n",
       "        vertical-align: top;\n",
       "    }\n",
       "\n",
       "    .dataframe thead th {\n",
       "        text-align: right;\n",
       "    }\n",
       "</style>\n",
       "<table border=\"1\" class=\"dataframe\">\n",
       "  <thead>\n",
       "    <tr style=\"text-align: right;\">\n",
       "      <th></th>\n",
       "      <th>peakmembership</th>\n",
       "      <th>byear</th>\n",
       "      <th>eyear</th>\n",
       "      <th>location</th>\n",
       "      <th>target</th>\n",
       "      <th>success</th>\n",
       "      <th>viol</th>\n",
       "    </tr>\n",
       "  </thead>\n",
       "  <tbody>\n",
       "    <tr>\n",
       "      <th>1</th>\n",
       "      <td>4500000</td>\n",
       "      <td>1937</td>\n",
       "      <td>1945</td>\n",
       "      <td>China</td>\n",
       "      <td>Japanese occupation</td>\n",
       "      <td>0</td>\n",
       "      <td>1</td>\n",
       "    </tr>\n",
       "    <tr>\n",
       "      <th>2</th>\n",
       "      <td>2000000</td>\n",
       "      <td>1977</td>\n",
       "      <td>1979</td>\n",
       "      <td>Iran</td>\n",
       "      <td>Shah Reza Pahlavi</td>\n",
       "      <td>1</td>\n",
       "      <td>0</td>\n",
       "    </tr>\n",
       "    <tr>\n",
       "      <th>3</th>\n",
       "      <td>2000000</td>\n",
       "      <td>1986</td>\n",
       "      <td>1983</td>\n",
       "      <td>Philippines</td>\n",
       "      <td>Ferdinand Marcos</td>\n",
       "      <td>1</td>\n",
       "      <td>0</td>\n",
       "    </tr>\n",
       "    <tr>\n",
       "      <th>4</th>\n",
       "      <td>1000000</td>\n",
       "      <td>1988</td>\n",
       "      <td>1988</td>\n",
       "      <td>Burma</td>\n",
       "      <td>military junta</td>\n",
       "      <td>0</td>\n",
       "      <td>0</td>\n",
       "    </tr>\n",
       "    <tr>\n",
       "      <th>5</th>\n",
       "      <td>1000000</td>\n",
       "      <td>1989</td>\n",
       "      <td>1989</td>\n",
       "      <td>China</td>\n",
       "      <td>Communist regime</td>\n",
       "      <td>0</td>\n",
       "      <td>0</td>\n",
       "    </tr>\n",
       "    <tr>\n",
       "      <th>6</th>\n",
       "      <td>1000000</td>\n",
       "      <td>1967</td>\n",
       "      <td>1968</td>\n",
       "      <td>China</td>\n",
       "      <td>anti-Maoists</td>\n",
       "      <td>0</td>\n",
       "      <td>1</td>\n",
       "    </tr>\n",
       "    <tr>\n",
       "      <th>7</th>\n",
       "      <td>1000000</td>\n",
       "      <td>1922</td>\n",
       "      <td>1949</td>\n",
       "      <td>China</td>\n",
       "      <td>Kuomintang regime</td>\n",
       "      <td>1</td>\n",
       "      <td>1</td>\n",
       "    </tr>\n",
       "    <tr>\n",
       "      <th>8</th>\n",
       "      <td>1000000</td>\n",
       "      <td>2006</td>\n",
       "      <td>2006</td>\n",
       "      <td>Mexico</td>\n",
       "      <td>Calderon regime</td>\n",
       "      <td>0</td>\n",
       "      <td>0</td>\n",
       "    </tr>\n",
       "    <tr>\n",
       "      <th>9</th>\n",
       "      <td>1000000</td>\n",
       "      <td>2005</td>\n",
       "      <td>2005</td>\n",
       "      <td>Lebanon</td>\n",
       "      <td>Syrian forces</td>\n",
       "      <td>1</td>\n",
       "      <td>0</td>\n",
       "    </tr>\n",
       "    <tr>\n",
       "      <th>10</th>\n",
       "      <td>1000000</td>\n",
       "      <td>1993</td>\n",
       "      <td>1999</td>\n",
       "      <td>Nigeria</td>\n",
       "      <td>Military rule</td>\n",
       "      <td>1</td>\n",
       "      <td>0</td>\n",
       "    </tr>\n",
       "    <tr>\n",
       "      <th>11</th>\n",
       "      <td>1000000</td>\n",
       "      <td>1984</td>\n",
       "      <td>1985</td>\n",
       "      <td>Brazil</td>\n",
       "      <td>Military rule</td>\n",
       "      <td>1</td>\n",
       "      <td>0</td>\n",
       "    </tr>\n",
       "    <tr>\n",
       "      <th>12</th>\n",
       "      <td>700000</td>\n",
       "      <td>1990</td>\n",
       "      <td>1991</td>\n",
       "      <td>Russia</td>\n",
       "      <td>Anti-coup</td>\n",
       "      <td>1</td>\n",
       "      <td>0</td>\n",
       "    </tr>\n",
       "    <tr>\n",
       "      <th>13</th>\n",
       "      <td>700000</td>\n",
       "      <td>1983</td>\n",
       "      <td>1989</td>\n",
       "      <td>Chile</td>\n",
       "      <td>Augusto Pinochet</td>\n",
       "      <td>1</td>\n",
       "      <td>0</td>\n",
       "    </tr>\n",
       "    <tr>\n",
       "      <th>14</th>\n",
       "      <td>550000</td>\n",
       "      <td>1956</td>\n",
       "      <td>1957</td>\n",
       "      <td>China</td>\n",
       "      <td>Communist regime</td>\n",
       "      <td>0</td>\n",
       "      <td>0</td>\n",
       "    </tr>\n",
       "    <tr>\n",
       "      <th>15</th>\n",
       "      <td>500000</td>\n",
       "      <td>1989</td>\n",
       "      <td>1989</td>\n",
       "      <td>Czechoslovakia</td>\n",
       "      <td>Communist regime</td>\n",
       "      <td>1</td>\n",
       "      <td>0</td>\n",
       "    </tr>\n",
       "    <tr>\n",
       "      <th>16</th>\n",
       "      <td>500000</td>\n",
       "      <td>2002</td>\n",
       "      <td>2003</td>\n",
       "      <td>Madagascar</td>\n",
       "      <td>Radsiraka regime</td>\n",
       "      <td>1</td>\n",
       "      <td>0</td>\n",
       "    </tr>\n",
       "    <tr>\n",
       "      <th>17</th>\n",
       "      <td>500000</td>\n",
       "      <td>1963</td>\n",
       "      <td>1963</td>\n",
       "      <td>Greece</td>\n",
       "      <td>Karamanlis regime</td>\n",
       "      <td>1</td>\n",
       "      <td>0</td>\n",
       "    </tr>\n",
       "    <tr>\n",
       "      <th>18</th>\n",
       "      <td>500000</td>\n",
       "      <td>2001</td>\n",
       "      <td>2004</td>\n",
       "      <td>Ukraine</td>\n",
       "      <td>Kuchma regime</td>\n",
       "      <td>1</td>\n",
       "      <td>0</td>\n",
       "    </tr>\n",
       "    <tr>\n",
       "      <th>19</th>\n",
       "      <td>500000</td>\n",
       "      <td>2001</td>\n",
       "      <td>2001</td>\n",
       "      <td>Philippines</td>\n",
       "      <td>Estrada regime</td>\n",
       "      <td>1</td>\n",
       "      <td>0</td>\n",
       "    </tr>\n",
       "    <tr>\n",
       "      <th>20</th>\n",
       "      <td>400000</td>\n",
       "      <td>1941</td>\n",
       "      <td>1945</td>\n",
       "      <td>USSR</td>\n",
       "      <td>Nazi occupation</td>\n",
       "      <td>0</td>\n",
       "      <td>1</td>\n",
       "    </tr>\n",
       "    <tr>\n",
       "      <th>21</th>\n",
       "      <td>400000</td>\n",
       "      <td>1991</td>\n",
       "      <td>1993</td>\n",
       "      <td>Madagascar</td>\n",
       "      <td>Didier Radsiraka</td>\n",
       "      <td>1</td>\n",
       "      <td>0</td>\n",
       "    </tr>\n",
       "    <tr>\n",
       "      <th>22</th>\n",
       "      <td>400000</td>\n",
       "      <td>1953</td>\n",
       "      <td>1953</td>\n",
       "      <td>East Germany</td>\n",
       "      <td>Communist regime</td>\n",
       "      <td>0</td>\n",
       "      <td>0</td>\n",
       "    </tr>\n",
       "    <tr>\n",
       "      <th>23</th>\n",
       "      <td>340000</td>\n",
       "      <td>1958</td>\n",
       "      <td>1975</td>\n",
       "      <td>Vietnam</td>\n",
       "      <td>U.S. occupation</td>\n",
       "      <td>1</td>\n",
       "      <td>1</td>\n",
       "    </tr>\n",
       "    <tr>\n",
       "      <th>24</th>\n",
       "      <td>300000</td>\n",
       "      <td>1943</td>\n",
       "      <td>1945</td>\n",
       "      <td>Italy</td>\n",
       "      <td>Nazi occupation</td>\n",
       "      <td>0</td>\n",
       "      <td>1</td>\n",
       "    </tr>\n",
       "    <tr>\n",
       "      <th>25</th>\n",
       "      <td>300000</td>\n",
       "      <td>1944</td>\n",
       "      <td>1944</td>\n",
       "      <td>Poland</td>\n",
       "      <td>German occupation</td>\n",
       "      <td>0</td>\n",
       "      <td>1</td>\n",
       "    </tr>\n",
       "  </tbody>\n",
       "</table>\n",
       "</div>"
      ],
      "text/plain": [
       "    peakmembership  byear  eyear        location               target  \\\n",
       "1          4500000   1937   1945           China  Japanese occupation   \n",
       "2          2000000   1977   1979            Iran    Shah Reza Pahlavi   \n",
       "3          2000000   1986   1983     Philippines     Ferdinand Marcos   \n",
       "4          1000000   1988   1988           Burma       military junta   \n",
       "5          1000000   1989   1989           China     Communist regime   \n",
       "6          1000000   1967   1968           China         anti-Maoists   \n",
       "7          1000000   1922   1949           China    Kuomintang regime   \n",
       "8          1000000   2006   2006          Mexico      Calderon regime   \n",
       "9          1000000   2005   2005         Lebanon        Syrian forces   \n",
       "10         1000000   1993   1999         Nigeria        Military rule   \n",
       "11         1000000   1984   1985          Brazil        Military rule   \n",
       "12          700000   1990   1991          Russia            Anti-coup   \n",
       "13          700000   1983   1989           Chile     Augusto Pinochet   \n",
       "14          550000   1956   1957           China     Communist regime   \n",
       "15          500000   1989   1989  Czechoslovakia     Communist regime   \n",
       "16          500000   2002   2003      Madagascar     Radsiraka regime   \n",
       "17          500000   1963   1963          Greece    Karamanlis regime   \n",
       "18          500000   2001   2004         Ukraine        Kuchma regime   \n",
       "19          500000   2001   2001     Philippines       Estrada regime   \n",
       "20          400000   1941   1945            USSR      Nazi occupation   \n",
       "21          400000   1991   1993      Madagascar     Didier Radsiraka   \n",
       "22          400000   1953   1953    East Germany     Communist regime   \n",
       "23          340000   1958   1975         Vietnam      U.S. occupation   \n",
       "24          300000   1943   1945           Italy      Nazi occupation   \n",
       "25          300000   1944   1944          Poland    German occupation   \n",
       "\n",
       "    success  viol  \n",
       "1         0     1  \n",
       "2         1     0  \n",
       "3         1     0  \n",
       "4         0     0  \n",
       "5         0     0  \n",
       "6         0     1  \n",
       "7         1     1  \n",
       "8         0     0  \n",
       "9         1     0  \n",
       "10        1     0  \n",
       "11        1     0  \n",
       "12        1     0  \n",
       "13        1     0  \n",
       "14        0     0  \n",
       "15        1     0  \n",
       "16        1     0  \n",
       "17        1     0  \n",
       "18        1     0  \n",
       "19        1     0  \n",
       "20        0     1  \n",
       "21        1     0  \n",
       "22        0     0  \n",
       "23        1     1  \n",
       "24        0     1  \n",
       "25        0     1  "
      ]
     },
     "execution_count": 11,
     "metadata": {},
     "output_type": "execute_result"
    }
   ],
   "source": [
    "q4 = data[['peakmembership', 'byear', 'eyear', 'location', 'target', 'success', 'viol']].sort_values(\n",
    "    ascending = False, by = 'peakmembership').head(25)\n",
    "q4.index = pd.Series(range(1,26)) #set index values from 1 to 25\n",
    "q4.peakmembership = q4.peakmembership.astype(int) #convert float to integer (to be more understable)\n",
    "q4"
   ]
  },
  {
   "cell_type": "markdown",
   "metadata": {},
   "source": [
    "We can, also, see that a campaign in Greece in 1963 is at the 17th place of this result with 500,000 members.\n",
    "This campaign was called \"Relentless Struggle\". It was a campaign against Konstantinos Karamanlis'\n",
    "government started by Georgios Papandreou. This government's elections (in 1961) were characterised as\n",
    "\"of violence and fraud\" and it changed after the start of the campaign."
   ]
  },
  {
   "cell_type": "markdown",
   "metadata": {},
   "source": [
    "# 5. The Effect of Participation on the Probability of Campaign Success"
   ]
  },
  {
   "cell_type": "markdown",
   "metadata": {},
   "source": [
    "We create a dataframe with the information we need from the original data, we drop the n/a values \n",
    "and we run the logistic regression  for success on membership per capita, controlling for the location’s logged population the year the campaign ends. "
   ]
  },
  {
   "cell_type": "code",
   "execution_count": 46,
   "metadata": {
    "scrolled": false
   },
   "outputs": [
    {
     "name": "stdout",
     "output_type": "stream",
     "text": [
      "Optimization terminated successfully.\n",
      "         Current function value: 0.594790\n",
      "         Iterations 5\n"
     ]
    },
    {
     "data": {
      "text/html": [
       "<table class=\"simpletable\">\n",
       "<tr>\n",
       "        <td>Model:</td>              <td>Logit</td>      <td>Pseudo R-squared:</td>    <td>0.129</td>  \n",
       "</tr>\n",
       "<tr>\n",
       "  <td>Dependent Variable:</td>      <td>success</td>           <td>AIC:</td>         <td>199.9014</td> \n",
       "</tr>\n",
       "<tr>\n",
       "         <td>Date:</td>        <td>2019-11-30 18:03</td>       <td>BIC:</td>         <td>209.1827</td> \n",
       "</tr>\n",
       "<tr>\n",
       "   <td>No. Observations:</td>         <td>163</td>        <td>Log-Likelihood:</td>    <td>-96.951</td> \n",
       "</tr>\n",
       "<tr>\n",
       "       <td>Df Model:</td>              <td>2</td>            <td>LL-Null:</td>        <td>-111.35</td> \n",
       "</tr>\n",
       "<tr>\n",
       "     <td>Df Residuals:</td>           <td>160</td>         <td>LLR p-value:</td>    <td>5.5508e-07</td>\n",
       "</tr>\n",
       "<tr>\n",
       "      <td>Converged:</td>           <td>1.0000</td>           <td>Scale:</td>         <td>1.0000</td>  \n",
       "</tr>\n",
       "<tr>\n",
       "    <td>No. Iterations:</td>        <td>5.0000</td>              <td></td>               <td></td>     \n",
       "</tr>\n",
       "</table>\n",
       "<table class=\"simpletable\">\n",
       "<tr>\n",
       "      <td></td>       <th>Coef.</th>  <th>Std.Err.</th>    <th>z</th>     <th>P>|z|</th> <th>[0.025</th>  <th>0.975]</th> \n",
       "</tr>\n",
       "<tr>\n",
       "  <th>Intercept</th> <td>-5.8199</td>  <td>1.9207</td>  <td>-3.0301</td> <td>0.0024</td> <td>-9.5843</td> <td>-2.0555</td>\n",
       "</tr>\n",
       "<tr>\n",
       "  <th>mempc</th>     <td>4.4892</td>   <td>0.9857</td>  <td>4.5545</td>  <td>0.0000</td> <td>2.5573</td>  <td>6.4210</td> \n",
       "</tr>\n",
       "<tr>\n",
       "  <th>lnpop</th>     <td>0.0907</td>   <td>0.1285</td>  <td>0.7058</td>  <td>0.4803</td> <td>-0.1612</td> <td>0.3426</td> \n",
       "</tr>\n",
       "</table>"
      ],
      "text/plain": [
       "<class 'statsmodels.iolib.summary2.Summary'>\n",
       "\"\"\"\n",
       "                         Results: Logit\n",
       "=================================================================\n",
       "Model:              Logit            Pseudo R-squared: 0.129     \n",
       "Dependent Variable: success          AIC:              199.9014  \n",
       "Date:               2019-11-30 18:03 BIC:              209.1827  \n",
       "No. Observations:   163              Log-Likelihood:   -96.951   \n",
       "Df Model:           2                LL-Null:          -111.35   \n",
       "Df Residuals:       160              LLR p-value:      5.5508e-07\n",
       "Converged:          1.0000           Scale:            1.0000    \n",
       "No. Iterations:     5.0000                                       \n",
       "------------------------------------------------------------------\n",
       "               Coef.   Std.Err.     z     P>|z|    [0.025   0.975]\n",
       "------------------------------------------------------------------\n",
       "Intercept     -5.8199    1.9207  -3.0301  0.0024  -9.5843  -2.0555\n",
       "mempc          4.4892    0.9857   4.5545  0.0000   2.5573   6.4210\n",
       "lnpop          0.0907    0.1285   0.7058  0.4803  -0.1612   0.3426\n",
       "=================================================================\n",
       "\n",
       "\"\"\""
      ]
     },
     "execution_count": 46,
     "metadata": {},
     "output_type": "execute_result"
    }
   ],
   "source": [
    "clean_data = data[['success', 'mempc', 'lnpop']]\n",
    "clean_data = clean_data.dropna()\n",
    "success_mod = logit(\"success ~ mempc + lnpop\", clean_data).fit()\n",
    "success_mod.summary2()"
   ]
  },
  {
   "cell_type": "markdown",
   "metadata": {},
   "source": [
    "* The intercept is the log odds of having a successful campaign when all the independent variables are held at zero; that is $e^{-5.8199} \\approx 0.0030$. That means that $p / (1-p) = 0.0030$, or $p \\approx 0.003$.\n",
    "* One unit increase in `mempc` brings an increase of 4.4892 in the log odds of having a successful campaign; equivalently, the odds ratio increases by $e^{4.4892} \\approx 89.05$ or about 8805%. \n",
    "* One unit increase in `lnpop` brings an increase of 0.0907 in the log odds of having a successful campaign; equivalently, the odds ratio increases by $e^{0.0907} \\approx 1.09$ or about 9%. "
   ]
  },
  {
   "cell_type": "markdown",
   "metadata": {},
   "source": [
    "We create a plot that depicts the predictions of having a successful campaign according to\n",
    "the logged participants per capita."
   ]
  },
  {
   "cell_type": "code",
   "execution_count": 24,
   "metadata": {},
   "outputs": [
    {
     "data": {
      "text/plain": [
       "Text(0, 0.5, 'success probability')"
      ]
     },
     "execution_count": 24,
     "metadata": {},
     "output_type": "execute_result"
    },
    {
     "data": {
      "image/png": "[encoded data removed]",
      "text/plain": [
       "<Figure size 1080x576 with 1 Axes>"
      ]
     },
     "metadata": {
      "needs_background": "light"
     },
     "output_type": "display_data"
    }
   ],
   "source": [
    "fig = plt.figure(figsize=(15,8))\n",
    "ax = fig.add_subplot(111)\n",
    "ax.scatter(clean_data.mempc, success_mod.predict(), color='#cc0059')\n",
    "ax.set_xlabel('participants per capita, logged')\n",
    "ax.set_ylabel('success probability')"
   ]
  },
  {
   "cell_type": "markdown",
   "metadata": {},
   "source": [
    "# 6. The Level of Participation Tipping Point"
   ]
  },
  {
   "cell_type": "markdown",
   "metadata": {},
   "source": [
    "We create a dataframe with the probabilities predicted for every number of logged participants per capita and\n",
    "we sort it based on `mempc`."
   ]
  },
  {
   "cell_type": "code",
   "execution_count": 169,
   "metadata": {},
   "outputs": [
    {
     "data": {
      "text/html": [
       "<div>\n",
       "<style scoped>\n",
       "    .dataframe tbody tr th:only-of-type {\n",
       "        vertical-align: middle;\n",
       "    }\n",
       "\n",
       "    .dataframe tbody tr th {\n",
       "        vertical-align: top;\n",
       "    }\n",
       "\n",
       "    .dataframe thead th {\n",
       "        text-align: right;\n",
       "    }\n",
       "</style>\n",
       "<table border=\"1\" class=\"dataframe\">\n",
       "  <thead>\n",
       "    <tr style=\"text-align: right;\">\n",
       "      <th></th>\n",
       "      <th>mempc</th>\n",
       "      <th>prob</th>\n",
       "    </tr>\n",
       "  </thead>\n",
       "  <tbody>\n",
       "    <tr>\n",
       "      <th>110</th>\n",
       "      <td>1.713917</td>\n",
       "      <td>0.927019</td>\n",
       "    </tr>\n",
       "    <tr>\n",
       "      <th>228</th>\n",
       "      <td>1.677914</td>\n",
       "      <td>0.921259</td>\n",
       "    </tr>\n",
       "    <tr>\n",
       "      <th>111</th>\n",
       "      <td>1.575330</td>\n",
       "      <td>0.877381</td>\n",
       "    </tr>\n",
       "    <tr>\n",
       "      <th>112</th>\n",
       "      <td>1.512668</td>\n",
       "      <td>0.847640</td>\n",
       "    </tr>\n",
       "    <tr>\n",
       "      <th>92</th>\n",
       "      <td>1.451640</td>\n",
       "      <td>0.820082</td>\n",
       "    </tr>\n",
       "  </tbody>\n",
       "</table>\n",
       "</div>"
      ],
      "text/plain": [
       "        mempc      prob\n",
       "110  1.713917  0.927019\n",
       "228  1.677914  0.921259\n",
       "111  1.575330  0.877381\n",
       "112  1.512668  0.847640\n",
       "92   1.451640  0.820082"
      ]
     },
     "execution_count": 169,
     "metadata": {},
     "output_type": "execute_result"
    }
   ],
   "source": [
    "q6 = pd.DataFrame(clean_data[['mempc']])\n",
    "q6['prob'] = success_mod.predict()\n",
    "q6 = q6.sort_values('mempc', ascending = False)\n",
    "q6.head(5)"
   ]
  },
  {
   "cell_type": "markdown",
   "metadata": {},
   "source": [
    "We try to split the dataframe in order to find a values interval with minimum probablity 50%. "
   ]
  },
  {
   "cell_type": "code",
   "execution_count": 104,
   "metadata": {},
   "outputs": [
    {
     "name": "stdout",
     "output_type": "stream",
     "text": [
      "0.4511465102270273 q61\n",
      "0.09073522028022511 q62\n"
     ]
    }
   ],
   "source": [
    "q61, q62 = np.split(q6, [int(.35*len(q6))])\n",
    "print(q61.prob.min(),'q61')\n",
    "print(q62.prob.min(), 'q62')"
   ]
  },
  {
   "cell_type": "markdown",
   "metadata": {},
   "source": [
    "From our previous try we see that the first 35% of the dataframe has minimum probability 45%. We are close so we\n",
    "split it accordingly."
   ]
  },
  {
   "cell_type": "code",
   "execution_count": 173,
   "metadata": {},
   "outputs": [
    {
     "name": "stdout",
     "output_type": "stream",
     "text": [
      "0.5048745347021737 q61\n",
      "0.09073522028022511 q62\n"
     ]
    }
   ],
   "source": [
    "q61, q62 = np.split(q6, [int(.34*len(q6))])\n",
    "print(q61.prob.min(),'q61')\n",
    "print(q62.prob.min(), 'q62')"
   ]
  },
  {
   "cell_type": "markdown",
   "metadata": {},
   "source": [
    "We found the minimum percentage we need. Now, we have to find the real percentage of participation."
   ]
  },
  {
   "cell_type": "code",
   "execution_count": 176,
   "metadata": {},
   "outputs": [
    {
     "data": {
      "text/html": [
       "<div>\n",
       "<style scoped>\n",
       "    .dataframe tbody tr th:only-of-type {\n",
       "        vertical-align: middle;\n",
       "    }\n",
       "\n",
       "    .dataframe tbody tr th {\n",
       "        vertical-align: top;\n",
       "    }\n",
       "\n",
       "    .dataframe thead th {\n",
       "        text-align: right;\n",
       "    }\n",
       "</style>\n",
       "<table border=\"1\" class=\"dataframe\">\n",
       "  <thead>\n",
       "    <tr style=\"text-align: right;\">\n",
       "      <th></th>\n",
       "      <th>mempc</th>\n",
       "      <th>prob</th>\n",
       "      <th>lnpop</th>\n",
       "      <th>pop</th>\n",
       "      <th>pop1</th>\n",
       "      <th>peakmembership</th>\n",
       "      <th>popper</th>\n",
       "    </tr>\n",
       "  </thead>\n",
       "  <tbody>\n",
       "    <tr>\n",
       "      <th>177</th>\n",
       "      <td>1.119458</td>\n",
       "      <td>0.504875</td>\n",
       "      <td>8.971530</td>\n",
       "      <td>7875.641602</td>\n",
       "      <td>7875641.5</td>\n",
       "      <td>23000.0</td>\n",
       "      <td>0.002920</td>\n",
       "    </tr>\n",
       "    <tr>\n",
       "      <th>72</th>\n",
       "      <td>1.121430</td>\n",
       "      <td>0.512102</td>\n",
       "      <td>9.192685</td>\n",
       "      <td>9824.997070</td>\n",
       "      <td>9824997.0</td>\n",
       "      <td>30000.0</td>\n",
       "      <td>0.003053</td>\n",
       "    </tr>\n",
       "    <tr>\n",
       "      <th>266</th>\n",
       "      <td>1.153200</td>\n",
       "      <td>0.513390</td>\n",
       "      <td>7.677474</td>\n",
       "      <td>2159.159912</td>\n",
       "      <td>2159160.0</td>\n",
       "      <td>7000.0</td>\n",
       "      <td>0.003242</td>\n",
       "    </tr>\n",
       "    <tr>\n",
       "      <th>223</th>\n",
       "      <td>1.131224</td>\n",
       "      <td>0.521278</td>\n",
       "      <td>9.113092</td>\n",
       "      <td>9073.310547</td>\n",
       "      <td>9073311.0</td>\n",
       "      <td>30000.0</td>\n",
       "      <td>0.003306</td>\n",
       "    </tr>\n",
       "    <tr>\n",
       "      <th>97</th>\n",
       "      <td>1.145338</td>\n",
       "      <td>0.520845</td>\n",
       "      <td>8.395606</td>\n",
       "      <td>4427.569336</td>\n",
       "      <td>4427569.5</td>\n",
       "      <td>15000.0</td>\n",
       "      <td>0.003388</td>\n",
       "    </tr>\n",
       "  </tbody>\n",
       "</table>\n",
       "</div>"
      ],
      "text/plain": [
       "        mempc      prob     lnpop          pop       pop1  peakmembership  \\\n",
       "177  1.119458  0.504875  8.971530  7875.641602  7875641.5         23000.0   \n",
       "72   1.121430  0.512102  9.192685  9824.997070  9824997.0         30000.0   \n",
       "266  1.153200  0.513390  7.677474  2159.159912  2159160.0          7000.0   \n",
       "223  1.131224  0.521278  9.113092  9073.310547  9073311.0         30000.0   \n",
       "97   1.145338  0.520845  8.395606  4427.569336  4427569.5         15000.0   \n",
       "\n",
       "       popper  \n",
       "177  0.002920  \n",
       "72   0.003053  \n",
       "266  0.003242  \n",
       "223  0.003306  \n",
       "97   0.003388  "
      ]
     },
     "execution_count": 176,
     "metadata": {},
     "output_type": "execute_result"
    }
   ],
   "source": [
    "q61['lnpop'] = data.lnpop\n",
    "q61['pop'] = np.exp(q61['lnpop']) #We find the non logged value of population\n",
    "q61['pop1'] = q61['pop']*1000 #We multiply the non logged value to find the original population number\n",
    "q61['peakmembership'] = data.peakmembership #We keep the original number of peak membership\n",
    "q61['popper'] = q61['peakmembership'] / q61['pop1'] #We find the percentage of participation\n",
    "q61.sort_values('popper', ascending=True).head(5)"
   ]
  },
  {
   "cell_type": "code",
   "execution_count": 167,
   "metadata": {},
   "outputs": [
    {
     "name": "stdout",
     "output_type": "stream",
     "text": [
      "0.5048745347021737 minimum probability\n",
      "0.002920397024166222 minimum population percentage\n"
     ]
    }
   ],
   "source": [
    "print(q61.prob.min(), 'minimum probability')\n",
    "print(q61.popper.min(), 'minimum population percentage')"
   ]
  },
  {
   "cell_type": "markdown",
   "metadata": {},
   "source": [
    "So, the percentage of the population that is the tipping point for success in a campaign, with at least \n",
    "50% probability to succeed, is 0.3%."
   ]
  },
  {
   "cell_type": "markdown",
   "metadata": {},
   "source": [
    "# 7. Nonviolent Resistance, Target Regime Type, Geographical Location"
   ]
  },
  {
   "cell_type": "markdown",
   "metadata": {},
   "source": [
    "## Question A"
   ]
  },
  {
   "cell_type": "markdown",
   "metadata": {},
   "source": [
    "We insert the information we need from the original data, we drop the n/a values \n",
    "and we run the logistic regression."
   ]
  },
  {
   "cell_type": "code",
   "execution_count": 20,
   "metadata": {},
   "outputs": [
    {
     "name": "stdout",
     "output_type": "stream",
     "text": [
      "Optimization terminated successfully.\n",
      "         Current function value: 0.567143\n",
      "         Iterations 6\n"
     ]
    },
    {
     "data": {
      "text/html": [
       "<table class=\"simpletable\">\n",
       "<tr>\n",
       "        <td>Model:</td>              <td>Logit</td>      <td>Pseudo R-squared:</td>    <td>0.163</td>  \n",
       "</tr>\n",
       "<tr>\n",
       "  <td>Dependent Variable:</td>      <td>success</td>           <td>AIC:</td>         <td>169.9344</td> \n",
       "</tr>\n",
       "<tr>\n",
       "         <td>Date:</td>        <td>2019-11-30 17:42</td>       <td>BIC:</td>         <td>184.6782</td> \n",
       "</tr>\n",
       "<tr>\n",
       "   <td>No. Observations:</td>         <td>141</td>        <td>Log-Likelihood:</td>    <td>-79.967</td> \n",
       "</tr>\n",
       "<tr>\n",
       "       <td>Df Model:</td>              <td>4</td>            <td>LL-Null:</td>        <td>-95.506</td> \n",
       "</tr>\n",
       "<tr>\n",
       "     <td>Df Residuals:</td>           <td>136</td>         <td>LLR p-value:</td>    <td>2.9528e-06</td>\n",
       "</tr>\n",
       "<tr>\n",
       "      <td>Converged:</td>           <td>1.0000</td>           <td>Scale:</td>         <td>1.0000</td>  \n",
       "</tr>\n",
       "<tr>\n",
       "    <td>No. Iterations:</td>        <td>6.0000</td>              <td></td>               <td></td>     \n",
       "</tr>\n",
       "</table>\n",
       "<table class=\"simpletable\">\n",
       "<tr>\n",
       "      <td></td>       <th>Coef.</th>  <th>Std.Err.</th>    <th>z</th>     <th>P>|z|</th> <th>[0.025</th>  <th>0.975]</th> \n",
       "</tr>\n",
       "<tr>\n",
       "  <th>Intercept</th> <td>-0.1085</td>  <td>1.4130</td>  <td>-0.0768</td> <td>0.9388</td> <td>-2.8779</td> <td>2.6609</td> \n",
       "</tr>\n",
       "<tr>\n",
       "  <th>nonviol</th>   <td>0.9048</td>   <td>0.4636</td>  <td>1.9517</td>  <td>0.0510</td> <td>-0.0038</td> <td>1.8134</td> \n",
       "</tr>\n",
       "<tr>\n",
       "  <th>tpolity</th>   <td>0.0520</td>   <td>0.0298</td>  <td>1.7439</td>  <td>0.0812</td> <td>-0.0064</td> <td>0.1104</td> \n",
       "</tr>\n",
       "<tr>\n",
       "  <th>lmembers</th>  <td>0.3751</td>   <td>0.1282</td>  <td>2.9264</td>  <td>0.0034</td> <td>0.1239</td>  <td>0.6263</td> \n",
       "</tr>\n",
       "<tr>\n",
       "  <th>lnpop</th>     <td>-0.4363</td>  <td>0.1423</td>  <td>-3.0671</td> <td>0.0022</td> <td>-0.7151</td> <td>-0.1575</td>\n",
       "</tr>\n",
       "</table>"
      ],
      "text/plain": [
       "<class 'statsmodels.iolib.summary2.Summary'>\n",
       "\"\"\"\n",
       "                         Results: Logit\n",
       "=================================================================\n",
       "Model:              Logit            Pseudo R-squared: 0.163     \n",
       "Dependent Variable: success          AIC:              169.9344  \n",
       "Date:               2019-11-30 17:42 BIC:              184.6782  \n",
       "No. Observations:   141              Log-Likelihood:   -79.967   \n",
       "Df Model:           4                LL-Null:          -95.506   \n",
       "Df Residuals:       136              LLR p-value:      2.9528e-06\n",
       "Converged:          1.0000           Scale:            1.0000    \n",
       "No. Iterations:     6.0000                                       \n",
       "------------------------------------------------------------------\n",
       "               Coef.   Std.Err.     z     P>|z|    [0.025   0.975]\n",
       "------------------------------------------------------------------\n",
       "Intercept     -0.1085    1.4130  -0.0768  0.9388  -2.8779   2.6609\n",
       "nonviol        0.9048    0.4636   1.9517  0.0510  -0.0038   1.8134\n",
       "tpolity        0.0520    0.0298   1.7439  0.0812  -0.0064   0.1104\n",
       "lmembers       0.3751    0.1282   2.9264  0.0034   0.1239   0.6263\n",
       "lnpop         -0.4363    0.1423  -3.0671  0.0022  -0.7151  -0.1575\n",
       "=================================================================\n",
       "\n",
       "\"\"\""
      ]
     },
     "execution_count": 20,
     "metadata": {},
     "output_type": "execute_result"
    }
   ],
   "source": [
    "clean_data2 = data[['success', 'nonviol', 'tpolity', 'lmembers', 'lnpop']]\n",
    "clean_data2 = clean_data2.dropna()\n",
    "success_mod2 = logit(\"success ~ nonviol + tpolity + lmembers + lnpop\", clean_data2).fit()\n",
    "success_mod2.summary2()"
   ]
  },
  {
   "cell_type": "markdown",
   "metadata": {},
   "source": [
    "* The intercept is the log odds of having a successful campaign when all the independent variables are held at zero; that is $e^{-0.1085} \\approx 0.831$. That means that $p / (1-p) = 0.831$, or $p \\approx 0.453$.\n",
    "* One unit increase in `nonviol` (if the campaign was non violent) brings an increase of 0.9048 in the log odds of having a successful campaign; equivalently, the odds ratio increases by $e^{0.9048} \\approx 2.471$ or about 147.1%. The percentage is high enough to say that nonviolent resistance remains significant even if we control for the regime type\n",
    "* One unit increase in `tpolity` (POLITY IV score of campaign target) brings an increase of 0.0520 in the log odds of having a successful campaign; equivalently, the odds ratio increases by $e^{0.0520} \\approx 1.68$ or about 68%.\n",
    "* One unit increase in `lmembers` (logged peak membership) brings an increase of 0.3751 in the log odds of having a successful campaign; equivalently, the odds ratio increases by $e^{0.3751} \\approx 1.455$ or about 45.5%.\n",
    "* One unit increase in `lnpop` (location’s logged population the year the campaign ends) brings a decrease of 0.4363 in the log odds of having a successful campaign; equivalently, the odds ratio decreases by $e^{-0.4363} \\approx 0.6464$ or about 35.4%."
   ]
  },
  {
   "cell_type": "markdown",
   "metadata": {},
   "source": [
    "## Question B"
   ]
  },
  {
   "cell_type": "markdown",
   "metadata": {},
   "source": [
    "We insert the information we need from the original data, we drop the n/a values and we run the logistic regression."
   ]
  },
  {
   "cell_type": "code",
   "execution_count": 21,
   "metadata": {},
   "outputs": [
    {
     "name": "stdout",
     "output_type": "stream",
     "text": [
      "Optimization terminated successfully.\n",
      "         Current function value: 0.559590\n",
      "         Iterations 6\n"
     ]
    },
    {
     "data": {
      "text/html": [
       "<table class=\"simpletable\">\n",
       "<tr>\n",
       "        <td>Model:</td>              <td>Logit</td>      <td>Pseudo R-squared:</td>    <td>0.174</td>  \n",
       "</tr>\n",
       "<tr>\n",
       "  <td>Dependent Variable:</td>      <td>success</td>           <td>AIC:</td>         <td>169.8045</td> \n",
       "</tr>\n",
       "<tr>\n",
       "         <td>Date:</td>        <td>2019-11-30 17:42</td>       <td>BIC:</td>         <td>187.4971</td> \n",
       "</tr>\n",
       "<tr>\n",
       "   <td>No. Observations:</td>         <td>141</td>        <td>Log-Likelihood:</td>    <td>-78.902</td> \n",
       "</tr>\n",
       "<tr>\n",
       "       <td>Df Model:</td>              <td>5</td>            <td>LL-Null:</td>        <td>-95.506</td> \n",
       "</tr>\n",
       "<tr>\n",
       "     <td>Df Residuals:</td>           <td>135</td>         <td>LLR p-value:</td>    <td>3.4238e-06</td>\n",
       "</tr>\n",
       "<tr>\n",
       "      <td>Converged:</td>           <td>1.0000</td>           <td>Scale:</td>         <td>1.0000</td>  \n",
       "</tr>\n",
       "<tr>\n",
       "    <td>No. Iterations:</td>        <td>6.0000</td>              <td></td>               <td></td>     \n",
       "</tr>\n",
       "</table>\n",
       "<table class=\"simpletable\">\n",
       "<tr>\n",
       "      <td></td>       <th>Coef.</th>  <th>Std.Err.</th>    <th>z</th>     <th>P>|z|</th> <th>[0.025</th>  <th>0.975]</th> \n",
       "</tr>\n",
       "<tr>\n",
       "  <th>Intercept</th> <td>-0.1176</td>  <td>1.4190</td>  <td>-0.0829</td> <td>0.9339</td> <td>-2.8989</td> <td>2.6636</td> \n",
       "</tr>\n",
       "<tr>\n",
       "  <th>nonviol</th>   <td>0.7621</td>   <td>0.4763</td>  <td>1.5999</td>  <td>0.1096</td> <td>-0.1715</td> <td>1.6956</td> \n",
       "</tr>\n",
       "<tr>\n",
       "  <th>tpolity</th>   <td>0.0545</td>   <td>0.0303</td>  <td>1.8021</td>  <td>0.0715</td> <td>-0.0048</td> <td>0.1138</td> \n",
       "</tr>\n",
       "<tr>\n",
       "  <th>lmembers</th>  <td>0.3937</td>   <td>0.1300</td>  <td>3.0284</td>  <td>0.0025</td> <td>0.1389</td>  <td>0.6485</td> \n",
       "</tr>\n",
       "<tr>\n",
       "  <th>lnpop</th>     <td>-0.3778</td>  <td>0.1499</td>  <td>-2.5210</td> <td>0.0117</td> <td>-0.6716</td> <td>-0.0841</td>\n",
       "</tr>\n",
       "<tr>\n",
       "  <th>lccode</th>    <td>-0.0013</td>  <td>0.0009</td>  <td>-1.4493</td> <td>0.1473</td> <td>-0.0031</td> <td>0.0005</td> \n",
       "</tr>\n",
       "</table>"
      ],
      "text/plain": [
       "<class 'statsmodels.iolib.summary2.Summary'>\n",
       "\"\"\"\n",
       "                         Results: Logit\n",
       "=================================================================\n",
       "Model:              Logit            Pseudo R-squared: 0.174     \n",
       "Dependent Variable: success          AIC:              169.8045  \n",
       "Date:               2019-11-30 17:42 BIC:              187.4971  \n",
       "No. Observations:   141              Log-Likelihood:   -78.902   \n",
       "Df Model:           5                LL-Null:          -95.506   \n",
       "Df Residuals:       135              LLR p-value:      3.4238e-06\n",
       "Converged:          1.0000           Scale:            1.0000    \n",
       "No. Iterations:     6.0000                                       \n",
       "------------------------------------------------------------------\n",
       "               Coef.   Std.Err.     z     P>|z|    [0.025   0.975]\n",
       "------------------------------------------------------------------\n",
       "Intercept     -0.1176    1.4190  -0.0829  0.9339  -2.8989   2.6636\n",
       "nonviol        0.7621    0.4763   1.5999  0.1096  -0.1715   1.6956\n",
       "tpolity        0.0545    0.0303   1.8021  0.0715  -0.0048   0.1138\n",
       "lmembers       0.3937    0.1300   3.0284  0.0025   0.1389   0.6485\n",
       "lnpop         -0.3778    0.1499  -2.5210  0.0117  -0.6716  -0.0841\n",
       "lccode        -0.0013    0.0009  -1.4493  0.1473  -0.0031   0.0005\n",
       "=================================================================\n",
       "\n",
       "\"\"\""
      ]
     },
     "execution_count": 21,
     "metadata": {},
     "output_type": "execute_result"
    }
   ],
   "source": [
    "clean_data3 = data[['success', 'nonviol', 'tpolity', 'lmembers', 'lnpop', 'lccode']]\n",
    "clean_data3 = clean_data3.dropna()\n",
    "success_mod3 = logit(\"success ~ nonviol + tpolity + lmembers + lnpop + lccode\", clean_data3).fit()\n",
    "success_mod3.summary2()"
   ]
  },
  {
   "cell_type": "markdown",
   "metadata": {},
   "source": [
    "* The intercept is the log odds of having a successful campaign when all the independent variables are held at zero; that is $e^{-0.1176} \\approx 0.889$. That means that $p / (1-p) = 0.889$, or $p \\approx 0.471$.\n",
    "* One unit increase in `nonviol` (if the campaign was non violent) brings an increase of 0.7621 in the log odds of having a successful campaign; equivalently, the odds ratio increases by $e^{0.7621} \\approx 2.142$ or about 114.2%. The percentage is high enough to say that nonviolent resistance remains significant but the influence decreases by 32.9% when we control for geographical location of the campaign.\n",
    "* One unit increase in `tpolity` (POLITY IV score of campaign target) brings an increase of 0.0545 in the log odds of having a successful campaign; equivalently, the odds ratio increases by $e^{0.0545} \\approx 1.06$ or about 6%.\n",
    "* One unit increase in `lmembers` (logged peak membership) brings an increase of 0.3937 in the log odds of having a successful campaign; equivalently, the odds ratio increases by $e^{0.3937} \\approx 1.4824$ or about 48.2%.\n",
    "* One unit increase in `lnpop` (location’s logged population the year the campaign ends) brings an decrease of 0.3778 in the log odds of having a successful campaign; equivalently, the odds ratio decreases by $e^{-0.3778} \\approx 0.6854$ or about 31.5%.\n",
    "* One unit increase (a change in location) in `lccode` (location country code) brings a decrease of 0.0013 in the log odds of having a successful campaign; equivalently, the odds ratio decreases by $e^{-0.0013} \\approx 0.9987$ or about 0.1%."
   ]
  }
 ],
 "metadata": {
  "kernelspec": {
   "display_name": "Python 3",
   "language": "python",
   "name": "python3"
  },
  "language_info": {
   "codemirror_mode": {
    "name": "ipython",
    "version": 3
   },
   "file_extension": ".py",
   "mimetype": "text/x-python",
   "name": "python",
   "nbconvert_exporter": "python",
   "pygments_lexer": "ipython3",
   "version": "3.7.3"
  }
 },
 "nbformat": 4,
 "nbformat_minor": 2
}
